{
 "cells": [
  {
   "cell_type": "code",
   "execution_count": 1,
   "metadata": {},
   "outputs": [],
   "source": [
    "import numpy as np\n",
    "import matplotlib.pyplot as plt\n",
    "import scipy.linalg"
   ]
  },
  {
   "cell_type": "code",
   "execution_count": 44,
   "metadata": {},
   "outputs": [],
   "source": [
    "#Simulation r_a = 0:\n",
    "\n",
    "sigma_c=1\n",
    "r_c=1/57\n",
    "v=1\n",
    "\n",
    "m=np.zeros(21)\n",
    "cov=np.zeros((21,21))\n",
    "for s in range(21):\n",
    "    cov[s,s]=(sigma_c**2)*(1-np.exp(-2*r_c*v*(s)/sigma_c))\n",
    "    for t in range(s):\n",
    "        cov[t,s]=cov[s,t]=(sigma_c**2)*(1-np.exp(-2*r_c*v*(t)/sigma_c))*np.exp(-r_c*v*(s-t)/sigma_c)\n",
    "        "
   ]
  },
  {
   "cell_type": "code",
   "execution_count": 46,
   "metadata": {},
   "outputs": [
    {
     "data": {
      "image/png": "[encoded data removed]",
      "text/plain": [
       "<Figure size 432x288 with 1 Axes>"
      ]
     },
     "metadata": {
      "needs_background": "light"
     },
     "output_type": "display_data"
    }
   ],
   "source": [
    "#visualisation des trajectoires\n",
    "\n",
    "\n",
    "X1 = np.random.multivariate_normal(m, cov)-0.5\n",
    "X2 = np.random.multivariate_normal(m, cov)+0.5\n",
    "\n",
    "Y=np.arange(0,21)\n",
    "\n",
    "plt.plot(X1,Y,marker=\"o\")\n",
    "\n",
    "plt.plot(X2,Y,'red',marker=\"o\")\n",
    "\n",
    "plt.show()"
   ]
  },
  {
   "cell_type": "code",
   "execution_count": null,
   "metadata": {},
   "outputs": [],
   "source": [
    "#visualisation des trajectoires\n",
    "\n",
    "\n",
    "X1 = np.random.multivariate_normal(m, cov)-0.5\n",
    "X2 = np.random.multivariate_normal(m, cov)+0.5\n",
    "\n",
    "Y=np.arange(0,21)\n",
    "\n",
    "plt.plot(X1,Y,marker=\"o\")\n",
    "\n",
    "plt.plot(X2,Y,'red',marker=\"o\")\n",
    "\n",
    "plt.show()"
   ]
  },
  {
   "cell_type": "code",
   "execution_count": 47,
   "metadata": {},
   "outputs": [
    {
     "name": "stdout",
     "output_type": "stream",
     "text": [
      "0.3172\n"
     ]
    }
   ],
   "source": [
    "#MC Naïf\n",
    "\n",
    "d=1 #distance entre les deux avions - trajectoire parallèle\n",
    "N=100000\n",
    "\n",
    "m=np.zeros(20)\n",
    "cov=np.zeros((20,20))\n",
    "for s in range(20):\n",
    "    cov[s,s]=(sigma_c**2)*(1-np.exp(-2*r_c*v*(s+1)/sigma_c))\n",
    "    for t in range(s):\n",
    "        cov[t,s]=cov[s,t]=(sigma_c**2)*(1-np.exp(-2*r_c*v*(t+1)/sigma_c))*np.exp(-r_c*v*(s-t)/sigma_c)\n",
    "        \n",
    "X = np.random.multivariate_normal(m, cov,size=N)-d/2\n",
    "Y = np.random.multivariate_normal(m, cov,size=N)+d/2\n",
    "Z=np.min(abs(Y-X),axis=1)<0.1\n",
    "print(np.mean(Z))"
   ]
  },
  {
   "cell_type": "code",
   "execution_count": 6,
   "metadata": {},
   "outputs": [],
   "source": [
    "#fonctions permettant de calculer des termes de la densité gaussienne\n",
    "\n",
    "def xtcx(x,C):\n",
    "    return(np.apply_along_axis(lambda x:np.dot(x.T,np.dot(C,x)),0,x))\n",
    "\n",
    "def xtcy(x,C,y):\n",
    "    return(np.apply_along_axis(lambda x:np.dot(x.T,np.dot(C,y)),0,x))"
   ]
  },
  {
   "cell_type": "code",
   "execution_count": 58,
   "metadata": {
    "scrolled": true
   },
   "outputs": [
    {
     "data": {
      "image/png": "[encoded data removed]",
      "text/plain": [
       "<Figure size 432x288 with 1 Axes>"
      ]
     },
     "metadata": {
      "needs_background": "light"
     },
     "output_type": "display_data"
    }
   ],
   "source": [
    "#choix optimal du changement de moyenne\n",
    "\n",
    "d=3\n",
    "N=20000\n",
    "deltas = np.linspace(1.7,1.8,50)\n",
    "l=[]\n",
    "mu=np.zeros(20)+d\n",
    "X = np.random.multivariate_normal(mu, cov,size=N)\n",
    "Y = np.random.multivariate_normal(np.zeros(20), cov,size=N)\n",
    "inv_C=np.linalg.inv(cov)\n",
    "for delta in deltas:\n",
    "    mu_=(mu-delta).reshape(20,1)\n",
    "    X_=(X-delta).T\n",
    "    Y_=Y.T\n",
    "    Z=np.min(abs(X_-Y_),axis=0)<0.1\n",
    "    mu=mu.reshape(20,1)\n",
    "    r=np.exp(-0.5*(xtcx(X_-mu,inv_C)-xtcx(X_-mu_,inv_C)))\n",
    "    l.append(np.mean((Z*r)**2))\n",
    "#print(np.mean((Z*r))) \n",
    "plt.plot(deltas,l)\n",
    "plt.yscale('log')\n",
    "plt.show()"
   ]
  },
  {
   "cell_type": "code",
   "execution_count": 54,
   "metadata": {},
   "outputs": [
    {
     "data": {
      "text/plain": [
       "2.502452833735719e-34"
      ]
     },
     "execution_count": 54,
     "metadata": {},
     "output_type": "execute_result"
    }
   ],
   "source": [
    "np.mean(r)"
   ]
  },
  {
   "cell_type": "code",
   "execution_count": 59,
   "metadata": {},
   "outputs": [
    {
     "name": "stdout",
     "output_type": "stream",
     "text": [
      "2.3387127875390148e-08\n"
     ]
    }
   ],
   "source": [
    "#Changement de moyenne :\n",
    "\n",
    "d=3\n",
    "N=2000000\n",
    "l=[]\n",
    "mu=np.zeros(20)+d\n",
    "X = np.random.multivariate_normal(mu, cov,size=N)\n",
    "Y = np.random.multivariate_normal(np.zeros(20), cov,size=N)\n",
    "inv_C=np.linalg.inv(cov)\n",
    "delta=1.75\n",
    "mu_=(mu-delta).reshape(20,1)\n",
    "X_=(X-delta).T\n",
    "Y_=Y.T\n",
    "Z=np.min(abs(X_-Y_),axis=0)<0.1\n",
    "mu=mu.reshape(20,1)\n",
    "r=np.exp(0.5*(-xtcx(X_-mu,inv_C)+xtcx(X_-mu_,inv_C)))\n",
    "print(np.mean((Z*r))) \n"
   ]
  },
  {
   "cell_type": "code",
   "execution_count": 79,
   "metadata": {},
   "outputs": [
    {
     "data": {
      "text/plain": [
       "0.1969315"
      ]
     },
     "execution_count": 79,
     "metadata": {},
     "output_type": "execute_result"
    }
   ],
   "source": [
    "np.mean(Z)"
   ]
  },
  {
   "cell_type": "code",
   "execution_count": 80,
   "metadata": {},
   "outputs": [
    {
     "data": {
      "text/plain": [
       "1.072523053387142"
      ]
     },
     "execution_count": 80,
     "metadata": {},
     "output_type": "execute_result"
    }
   ],
   "source": [
    "np.mean(r)"
   ]
  },
  {
   "cell_type": "code",
   "execution_count": 165,
   "metadata": {},
   "outputs": [
    {
     "data": {
      "image/png": "[encoded data removed]",
      "text/plain": [
       "<Figure size 432x288 with 1 Axes>"
      ]
     },
     "metadata": {
      "needs_background": "light"
     },
     "output_type": "display_data"
    }
   ],
   "source": [
    "# Choix de alpha :\n",
    "\n",
    "\n",
    "d=3.5\n",
    "N=10000\n",
    "alphas = np.linspace(1,2,30)\n",
    "l=[]\n",
    "mu=np.zeros(20)+d/2\n",
    "X = np.random.multivariate_normal(mu, cov,size=N)\n",
    "Y = np.random.multivariate_normal(-mu, cov,size=N)\n",
    "\n",
    "for alpha in alphas:\n",
    "    mu=np.zeros(20)+d/2\n",
    "    X_=(((alpha)**0.5)*X+(1-(alpha)**0.5)*d/2).T\n",
    "    Y_=Y.T\n",
    "    mu=mu.reshape(20,1)\n",
    "    Z=np.min(abs(X_-Y_),axis=0)<0.1\n",
    "    inv_C=np.linalg.inv(cov)\n",
    "    r=np.exp(0.5*(xtcx(X_-mu,(1/alpha-1)*inv_C)+20*np.log(alpha)))\n",
    "    l.append(np.mean((Z*r)**2))\n",
    "    \n",
    "plt.plot(alphas,l)\n",
    "plt.yscale('log')\n",
    "plt.show()"
   ]
  },
  {
   "cell_type": "code",
   "execution_count": 29,
   "metadata": {},
   "outputs": [
    {
     "data": {
      "text/plain": [
       "0.9261065623509126"
      ]
     },
     "execution_count": 29,
     "metadata": {},
     "output_type": "execute_result"
    }
   ],
   "source": [
    "np.mean(r)"
   ]
  },
  {
   "cell_type": "code",
   "execution_count": 11,
   "metadata": {},
   "outputs": [
    {
     "data": {
      "image/png": "[encoded data removed]",
      "text/plain": [
       "<Figure size 432x288 with 1 Axes>"
      ]
     },
     "metadata": {
      "needs_background": "light"
     },
     "output_type": "display_data"
    },
    {
     "name": "stdout",
     "output_type": "stream",
     "text": [
      "MC Naïf : 0.00048\n",
      "Chgt variance : 0.000558381278926783\n"
     ]
    }
   ],
   "source": [
    "#Chgt de variance :\n",
    "N=100000\n",
    "d=3.5\n",
    "mu=np.zeros(20)+d/2\n",
    "cov=np.zeros((20,20))\n",
    "for s in range(20):\n",
    "    cov[s,s]=(sigma_c**2)*(1-np.exp(-2*r_c*v*(s+1)/sigma_c))\n",
    "    for t in range(s):\n",
    "        cov[t,s]=cov[s,t]=(sigma_c**2)*(1-np.exp(-2*r_c*v*(t+1)/sigma_c))*np.exp(-r_c*v*(s-t)/sigma_c)\n",
    "\n",
    "\n",
    "alpha=1.1\n",
    "\n",
    "X = np.random.multivariate_normal(mu, cov,size=N)\n",
    "Y = np.random.multivariate_normal(-mu, cov,size=N)\n",
    "\n",
    "X_=(((alpha)**0.5)*X+(1-(alpha)**0.5)*d/2).T\n",
    "Y_=Y.T\n",
    "\n",
    "mu=mu.reshape(20,1)\n",
    "Z=np.min(abs(X_-Y_),axis=0)<0.1\n",
    "inv_C=np.linalg.inv(cov)\n",
    "r=np.exp(0.5*(xtcx(X_-mu,(1/alpha-1)*inv_C)+20*np.log(alpha)))\n",
    "l=np.cumsum(Z*r)/np.arange(1,N+1)\n",
    "plt.plot(np.arange(1,N+1),l,label='Chgt Variance')\n",
    "\n",
    "#MC Naïf\n",
    "\n",
    "mu=np.zeros(20)+d/2       \n",
    "X = np.random.multivariate_normal(mu, cov,size=N)\n",
    "Y = np.random.multivariate_normal(-mu, cov,size=N)\n",
    "Y=np.min(abs(X-Y),axis=1)<0.1\n",
    "vals=np.cumsum(Y)/np.arange(1,N+1)\n",
    "plt.plot(np.arange(1,N+1),vals, label='MC Naïf')\n",
    "plt.legend(loc='upper right')\n",
    "plt.show()\n",
    "print(\"MC Naïf :\",np.mean(Y))\n",
    "print(\"Chgt variance :\", np.mean(Z*r))"
   ]
  },
  {
   "cell_type": "code",
   "execution_count": 13,
   "metadata": {},
   "outputs": [
    {
     "data": {
      "text/plain": [
       "0.99818117516662"
      ]
     },
     "execution_count": 13,
     "metadata": {},
     "output_type": "execute_result"
    }
   ],
   "source": [
    "np.mean(r)"
   ]
  },
  {
   "cell_type": "code",
   "execution_count": 142,
   "metadata": {},
   "outputs": [
    {
     "name": "stdout",
     "output_type": "stream",
     "text": [
      "1.975914802804149e-10 2.4757185690630673e-15\n"
     ]
    }
   ],
   "source": [
    "#Chgt de variance pour les intervalles de confiance:\n",
    "N=100000\n",
    "d=5\n",
    "mu=np.zeros(20)+d/2\n",
    "cov=np.zeros((20,20))\n",
    "for s in range(20):\n",
    "    cov[s,s]=(sigma_c**2)*(1-np.exp(-2*r_c*v*(s+1)/sigma_c))\n",
    "    for t in range(s):\n",
    "        cov[t,s]=cov[s,t]=(sigma_c**2)*(1-np.exp(-2*r_c*v*(t+1)/sigma_c))*np.exp(-r_c*v*(s-t)/sigma_c)\n",
    "        \n",
    "inv_C=np.linalg.inv(cov)\n",
    "alpha=2.8\n",
    "mu=np.zeros(20)+d/2\n",
    "X = np.random.multivariate_normal(mu, cov,size=N)\n",
    "Y = np.random.multivariate_normal(-mu, cov,size=N)\n",
    "X_=(((alpha)**0.5)*X+(1-(alpha)**0.5)*d/2).T\n",
    "Y_=Y.T\n",
    "mu=mu.reshape(20,1)\n",
    "Z=np.min(abs(X_-Y_),axis=0)<0.1\n",
    "r=np.exp(0.5*(xtcx(X_-mu,(1/alpha-1)*inv_C)+20*np.log(alpha))) \n",
    "print(np.mean(Z*r),np.mean((Z*r)**2)-np.mean(Z*r)**2)\n"
   ]
  },
  {
   "cell_type": "code",
   "execution_count": 141,
   "metadata": {},
   "outputs": [
    {
     "data": {
      "text/plain": [
       "1.0482720270558916"
      ]
     },
     "execution_count": 141,
     "metadata": {},
     "output_type": "execute_result"
    }
   ],
   "source": [
    "np.mean(r)"
   ]
  },
  {
   "cell_type": "code",
   "execution_count": 200,
   "metadata": {},
   "outputs": [
    {
     "data": {
      "image/png": "[encoded data removed]",
      "text/plain": [
       "<Figure size 432x288 with 1 Axes>"
      ]
     },
     "metadata": {
      "needs_background": "light"
     },
     "output_type": "display_data"
    }
   ],
   "source": [
    "x=np.array([0,0.5,1,1.5,2,2.5,3,3.5,4])\n",
    "y=np.array([1.0,0.579879,0.304379,0.127644,0.042899,0.01135,0.002294,0.000387,4.6e-05])\n",
    "vars=np.array([0,0.24361934535899998,0.211732424359,0.111351009264,0.041058675799,0.0112211775,0.0022887375640000002,0.000386850231,4.5997884e-5])\n",
    "errors=2*(vars/1000000)**0.5\n",
    "#plt.plot(x,y)\n",
    "plt.errorbar(x,y,yerr=errors,ecolor='black',uplims=True,lolims=True,label='Intervalle de confiance à 95%')\n",
    "plt.yscale('log')\n",
    "plt.legend()\n",
    "plt.show()"
   ]
  },
  {
   "cell_type": "code",
   "execution_count": 210,
   "metadata": {
    "scrolled": true
   },
   "outputs": [
    {
     "name": "stdout",
     "output_type": "stream",
     "text": [
      "8.149172527266616e-11 7.052026318415642e-10\n"
     ]
    }
   ],
   "source": [
    "val=3.933471785571152e-10\n",
    "var=7.294036780743687e-13\n",
    "N=30000000\n",
    "error=2*((var/N)**0.5)\n",
    "print(val-error,val+error)"
   ]
  },
  {
   "cell_type": "code",
   "execution_count": null,
   "metadata": {},
   "outputs": [],
   "source": [
    "#TRAVAIL EN COURS :\n",
    "#changement de variance local\n",
    "import numpy as np\n",
    "\n",
    "N=200000\n",
    "sigma_c=1\n",
    "r_c=1/57\n",
    "v=1\n",
    "r_a = 0\n",
    "d1=5\n",
    "d2=1\n",
    "mu1=np.zeros(20)+d1/2\n",
    "mu2=np.zeros(20)+d2/2\n",
    "cov=np.zeros((20,20))\n",
    "cov2=np.zeros((20,20))\n",
    "\n",
    "for s in range(20):\n",
    "    cov[s,s]=(sigma_c**2)*(1-np.exp(-2*r_c*v*(s+1)/sigma_c))\n",
    "    cov2[s,s]=(sigma_c**2)*(1-np.exp(-2*r_c*v*(s+1)/sigma_c))\n",
    "    for t in range(s):\n",
    "        cov[t,s]=cov[s,t]=(sigma_c**2)*(1-np.exp(-2*r_c*v*(t+1)/sigma_c))*np.exp(-r_c*v*(s-t)/sigma_c)\n",
    "        cov2[t,s]=cov2[s,t]=(sigma_c**2)*(1-np.exp(-2*r_c*v*(t+1)/sigma_c))*np.exp(-r_c*v*(s-t)/sigma_c)\n",
    "\n",
    "alpha=0.8#2.3 pour d=5\n",
    "for s in range(10,20):\n",
    "    cov2[s,s]=alpha*(sigma_c**2)*(1-np.exp(-2*r_c*v*(s+1)/sigma_c))\n",
    "    for t in range(10,s):\n",
    "        cov2[t,s]=cov2[s,t]=alpha*(sigma_c**2)*(1-np.exp(-2*r_c*v*(t+1)/sigma_c))*np.exp(-r_c*v*(s-t)/sigma_c)   \n",
    "\n",
    "\n",
    "X = np.random.multivariate_normal(mu1, cov2,size=N).T\n",
    "Y = np.random.multivariate_normal(-mu1, cov2,size=N).T\n",
    "mu1=mu1.reshape(20,1)\n",
    "mu2=mu2.reshape(20,1)\n",
    "Z=np.min(X-Y,axis=0)<0.1\n",
    "inv_C1=np.linalg.inv(cov)\n",
    "inv_C2=np.linalg.inv(cov2)\n",
    "coef1=np.linalg.det(inv_C2)/np.linalg.det(inv_C1)\n",
    "r=np.exp(0.5*(-xtcx(X-mu1,inv_C1)-xtcx(Y+mu1,inv_C1))-0.5*(-xtcx(X-mu1,inv_C2)-xtcx(Y+mu1,inv_C2)))/coef1\n",
    "estim_mc_cum = np.cumsum(Z*r)/np.arange(1,N+1,dtype=float)\n",
    "valeur_emp=np.mean(Z*r)"
   ]
  },
  {
   "cell_type": "code",
   "execution_count": 71,
   "metadata": {},
   "outputs": [
    {
     "name": "stdout",
     "output_type": "stream",
     "text": [
      "0.00046 0.0031\n"
     ]
    }
   ],
   "source": [
    "\n",
    "d=3.5 #distance entre les deux avions - trajectoire parallèle\n",
    "N=100000\n",
    "X1 = np.random.multivariate_normal(m, cov1,size=N)-d/2\n",
    "Y1 = np.random.multivariate_normal(m, cov1,size=N)+d/2\n",
    "X2 = np.random.multivariate_normal(m, cov2,size=N)-d/2\n",
    "Y2 = np.random.multivariate_normal(m, cov2,size=N)+d/2\n",
    "Z1=np.min(abs(Y1-X1),axis=1)<0.1\n",
    "Z2=np.min(abs(Y2-X2),axis=1)<0.1\n",
    "print(np.mean(Z1),np.mean(Z2))"
   ]
  },
  {
   "cell_type": "code",
   "execution_count": 21,
   "metadata": {},
   "outputs": [],
   "source": [
    "sigma_c=1\n",
    "r_c=1/57\n",
    "v=1\n",
    "l=14\n",
    "alpha=2\n",
    "\n",
    "m=np.zeros(20)\n",
    "cov1=np.zeros((20,20))\n",
    "cov2=np.zeros((20,20))\n",
    "for s in range(20):\n",
    "    cov1[s,s]=(sigma_c**2)*(1-np.exp(-2*r_c*v*(s+1)/sigma_c))\n",
    "    for t in range(s):\n",
    "        cov1[t,s]=cov1[s,t]=(sigma_c**2)*(1-np.exp(-2*r_c*v*(t+1)/sigma_c))*np.exp(-r_c*v*(s-t)/sigma_c)\n",
    "        \n",
    "for s in range(20):\n",
    "    if s>=l: cov2[s,s]=alpha*cov1[s,s]\n",
    "    else: cov2[s,s]=cov1[s,s]\n",
    "    for t in range(s):\n",
    "        if t>=l: cov2[t,s]=cov2[s,t]=alpha*cov1[t,s]\n",
    "        else: cov2[t,s]=cov2[s,t]=cov1[t,s]"
   ]
  },
  {
   "cell_type": "code",
   "execution_count": 23,
   "metadata": {},
   "outputs": [
    {
     "name": "stdout",
     "output_type": "stream",
     "text": [
      "2.21660314575534e-08 8.198064218418064e-11\n"
     ]
    }
   ],
   "source": [
    "N=200000\n",
    "d=5\n",
    "mu=np.zeros(20)+d/2\n",
    "inv_C1=np.linalg.inv(cov1)\n",
    "inv_C2=np.linalg.inv(cov2)\n",
    "X = np.random.multivariate_normal(mu, cov2,size=N).T\n",
    "Y = np.random.multivariate_normal(-mu, cov2,size=N).T\n",
    "mu=mu.reshape(20,1)\n",
    "Z=np.min(abs(X-Y),axis=0)<0.1\n",
    "r=np.exp(0.5*(xtcx(X-mu,inv_C2)-xtcx(X-mu,inv_C1)+xtcx(Y+mu,inv_C2)-xtcx(Y+mu,inv_C1)))*(np.linalg.det(cov2)/np.linalg.det(cov1))\n",
    "print(np.mean(Z*r),np.mean((Z*r)**2)-np.mean(Z*r)**2)"
   ]
  },
  {
   "cell_type": "code",
   "execution_count": 187,
   "metadata": {},
   "outputs": [
    {
     "data": {
      "text/plain": [
       "0.9950327802290021"
      ]
     },
     "execution_count": 187,
     "metadata": {},
     "output_type": "execute_result"
    }
   ],
   "source": [
    "np.mean(r)"
   ]
  },
  {
   "cell_type": "code",
   "execution_count": 9,
   "metadata": {},
   "outputs": [
    {
     "data": {
      "image/png": "[encoded data removed]",
      "text/plain": [
       "<Figure size 432x288 with 1 Axes>"
      ]
     },
     "metadata": {
      "needs_background": "light"
     },
     "output_type": "display_data"
    }
   ],
   "source": [
    "#choix de alpha\n",
    "d=5\n",
    "N=100000\n",
    "alphas = np.linspace(1.5,2.5,30)\n",
    "l=14\n",
    "L=[]\n",
    "mu=np.zeros(20)+d/2\n",
    "X = np.random.multivariate_normal(np.zeros(20), cov1,size=N)\n",
    "Y = np.random.multivariate_normal(np.zeros(20), cov1,size=N)\n",
    "inv_C1=np.linalg.inv(cov1)\n",
    "for alpha in alphas:\n",
    "    cov2=np.zeros((20,20))\n",
    "    for s in range(20):\n",
    "        if s>=l: cov2[s,s]=alpha*cov1[s,s]\n",
    "        else: cov2[s,s]=cov1[s,s]\n",
    "        for t in range(s):\n",
    "            if t>=l: cov2[t,s]=cov2[s,t]=alpha*cov1[t,s]\n",
    "            else: cov2[t,s]=cov2[s,t]=cov1[t,s]\n",
    "    mu=np.zeros(20)+d/2\n",
    "    mu=mu.reshape(20,1)\n",
    "    X_=scipy.linalg.sqrtm(cov2).dot(scipy.linalg.sqrtm(inv_C1).dot(X.T))+mu\n",
    "    Y_=scipy.linalg.sqrtm(cov2).dot(scipy.linalg.sqrtm(inv_C1).dot(Y.T))-mu\n",
    "    Z=np.min(abs(X_-Y_),axis=0)<0.1\n",
    "    inv_C2=np.linalg.inv(cov2)\n",
    "    r=np.exp(0.5*(xtcx(X_-mu,inv_C2)-xtcx(X_-mu,inv_C1)+xtcx(Y_+mu,inv_C2)-xtcx(Y_+mu,inv_C1)))*(np.linalg.det(cov2)/np.linalg.det(cov1))\n",
    "    L.append(np.mean((Z*r)**2))\n",
    "    \n",
    "plt.plot(alphas,L)\n",
    "plt.yscale('log')\n",
    "plt.show()"
   ]
  },
  {
   "cell_type": "code",
   "execution_count": 163,
   "metadata": {},
   "outputs": [
    {
     "data": {
      "text/plain": [
       "array([[3.5, 3.5, 3.5, ..., 3.5, 3.5, 3.5],\n",
       "       [3.5, 3.5, 3.5, ..., 3.5, 3.5, 3.5],\n",
       "       [3.5, 3.5, 3.5, ..., 3.5, 3.5, 3.5],\n",
       "       ...,\n",
       "       [3.5, 3.5, 3.5, ..., 3.5, 3.5, 3.5],\n",
       "       [3.5, 3.5, 3.5, ..., 3.5, 3.5, 3.5],\n",
       "       [3.5, 3.5, 3.5, ..., 3.5, 3.5, 3.5]])"
      ]
     },
     "execution_count": 163,
     "metadata": {},
     "output_type": "execute_result"
    }
   ],
   "source": [
    "X_-Y_"
   ]
  }
 ],
 "metadata": {
  "kernelspec": {
   "display_name": "Python 3",
   "language": "python",
   "name": "python3"
  },
  "language_info": {
   "codemirror_mode": {
    "name": "ipython",
    "version": 3
   },
   "file_extension": ".py",
   "mimetype": "text/x-python",
   "name": "python",
   "nbconvert_exporter": "python",
   "pygments_lexer": "ipython3",
   "version": "3.7.3"
  }
 },
 "nbformat": 4,
 "nbformat_minor": 2
}
